{
 "cells": [
  {
   "cell_type": "code",
   "execution_count": 182,
   "id": "320e7263-7db9-49b4-b8d5-86ea274c2af0",
   "metadata": {},
   "outputs": [],
   "source": [
    "import pandas as pd\n",
    "import os"
   ]
  },
  {
   "cell_type": "code",
   "execution_count": 183,
   "id": "b5098b8f-5d65-42ab-9f6d-106d7da373e6",
   "metadata": {},
   "outputs": [],
   "source": [
    "# Define the path to the CSV file (replace 'output_folder' with your actual output folder path)\n",
    "output_folder = r\"C:\\Users\\baner\\Desktop\\BTP\\btpf2\\BTPF2-20241117T165856Z-001\\BTPF2\\20ep\\op\"#Absolute path of o/p folder\n",
    "csv_file_path = os.path.join(output_folder, \"results.csv\")\n",
    "# Load the CSV file into a pandas DataFrame\n",
    "df = pd.read_csv(csv_file_path)\n",
    "data=df"
   ]
  },
  {
   "cell_type": "code",
   "execution_count": 184,
   "id": "57d708b3-6399-4feb-b16d-06eafc462f6d",
   "metadata": {},
   "outputs": [
    {
     "data": {
      "text/html": [
       "<div>\n",
       "<style scoped>\n",
       "    .dataframe tbody tr th:only-of-type {\n",
       "        vertical-align: middle;\n",
       "    }\n",
       "\n",
       "    .dataframe tbody tr th {\n",
       "        vertical-align: top;\n",
       "    }\n",
       "\n",
       "    .dataframe thead th {\n",
       "        text-align: right;\n",
       "    }\n",
       "</style>\n",
       "<table border=\"1\" class=\"dataframe\">\n",
       "  <thead>\n",
       "    <tr style=\"text-align: right;\">\n",
       "      <th></th>\n",
       "      <th>Image Name</th>\n",
       "      <th>Calculated Width (mm)</th>\n",
       "      <th>Calculated D (mm)</th>\n",
       "    </tr>\n",
       "  </thead>\n",
       "  <tbody>\n",
       "    <tr>\n",
       "      <th>0</th>\n",
       "      <td>20240531_165251_NiyGB.png</td>\n",
       "      <td>3.11727</td>\n",
       "      <td>2.04932</td>\n",
       "    </tr>\n",
       "    <tr>\n",
       "      <th>1</th>\n",
       "      <td>20240531_165254_CACT9.png</td>\n",
       "      <td>3.11727</td>\n",
       "      <td>1.96273</td>\n",
       "    </tr>\n",
       "    <tr>\n",
       "      <th>2</th>\n",
       "      <td>20240531_170353_XfkEx.png</td>\n",
       "      <td>2.64583</td>\n",
       "      <td>1.61396</td>\n",
       "    </tr>\n",
       "    <tr>\n",
       "      <th>3</th>\n",
       "      <td>20240531_170400_WCuhc.png</td>\n",
       "      <td>2.85750</td>\n",
       "      <td>1.79917</td>\n",
       "    </tr>\n",
       "    <tr>\n",
       "      <th>4</th>\n",
       "      <td>20240531_172757_tko6t.png</td>\n",
       "      <td>3.42900</td>\n",
       "      <td>1.80975</td>\n",
       "    </tr>\n",
       "  </tbody>\n",
       "</table>\n",
       "</div>"
      ],
      "text/plain": [
       "                  Image Name  Calculated Width (mm)  Calculated D (mm)\n",
       "0  20240531_165251_NiyGB.png                3.11727            2.04932\n",
       "1  20240531_165254_CACT9.png                3.11727            1.96273\n",
       "2  20240531_170353_XfkEx.png                2.64583            1.61396\n",
       "3  20240531_170400_WCuhc.png                2.85750            1.79917\n",
       "4  20240531_172757_tko6t.png                3.42900            1.80975"
      ]
     },
     "execution_count": 184,
     "metadata": {},
     "output_type": "execute_result"
    }
   ],
   "source": [
    "df.head()"
   ]
  },
  {
   "cell_type": "code",
   "execution_count": 185,
   "id": "d649efb8-8756-4d96-9073-ffe8b89468ef",
   "metadata": {},
   "outputs": [],
   "source": [
    "# Function to calculate S and invH\n",
    "def calculate_invH(row):\n",
    "    calculated_width = row['Calculated Width (mm)']\n",
    "    calculated_D = row['Calculated D (mm)']\n",
    "    \n",
    "    # Calculate S\n",
    "    S =  calculated_D/(calculated_width)\n",
    "\n",
    "    # Determine constants based on the value of S\n",
    "    if 0.401 <= S < 0.46:\n",
    "        A, B4, B3, B2, B1, B0 = 2.56651, 0.3272, 0, 0.97553, 0.84059, 0.18069\n",
    "    elif 0.46 <= S < 0.59:\n",
    "        A, B4, B3, B2, B1, B0 = 2.59725, 0.31968, 0, 0.46898, 0.50059, 0.13261\n",
    "    elif 0.59 <= S < 0.68:\n",
    "        A, B4, B3, B2, B1, B0 = 2.62435, 0.31522, 0, 0.11714, 0.15756, 0.05285\n",
    "    elif 0.68 <= S < 0.9:\n",
    "        A, B4, B3, B2, B1, B0 = 2.64267, 0.31345, 0, 0.09155, 0.14701, 0.05877\n",
    "    elif 0.9 <= S <= 1.0:\n",
    "        A, B4, B3, B2, B1, B0 = 2.84636, 0.30715, -0.69116, -1.08315, -0.18341, 0.2097\n",
    "    else:\n",
    "        # If S is out of range, return NaN\n",
    "        return 0\n",
    "\n",
    "    # Calculate invH\n",
    "    invH = (B4 / (S ** A)) + (B3 * (S ** 3)) - (B2 * (S ** 2)) + (B1 * S) - B0\n",
    "    return invH"
   ]
  },
  {
   "cell_type": "code",
   "execution_count": 186,
   "id": "a9a459e9-3443-4ff3-b97b-fc84458f31c3",
   "metadata": {},
   "outputs": [],
   "source": [
    "# Apply the function to each row\n",
    "df['invH'] = df.apply(calculate_invH, axis=1)\n"
   ]
  },
  {
   "cell_type": "code",
   "execution_count": 187,
   "id": "0eec11ec-d6dd-4adc-84bf-ee75a374f0bd",
   "metadata": {},
   "outputs": [
    {
     "data": {
      "text/plain": [
       "0     0.947820\n",
       "1     1.061323\n",
       "2     1.153076\n",
       "3     1.061325\n",
       "4     1.682001\n",
       "5     1.607767\n",
       "6     2.034631\n",
       "7     1.653611\n",
       "8     1.934907\n",
       "9     1.123580\n",
       "10    0.969398\n",
       "11    0.903082\n",
       "12    0.814657\n",
       "13    0.935438\n",
       "14    0.903082\n",
       "15    0.757661\n",
       "16    0.721978\n",
       "17    1.480483\n",
       "18    0.967891\n",
       "19    1.153083\n",
       "Name: invH, dtype: float64"
      ]
     },
     "execution_count": 187,
     "metadata": {},
     "output_type": "execute_result"
    }
   ],
   "source": [
    "df['invH']"
   ]
  },
  {
   "cell_type": "code",
   "execution_count": 188,
   "id": "2bfc950d-b8c9-4d99-8491-01d28eb1f846",
   "metadata": {},
   "outputs": [],
   "source": [
    "def calculate_sigma(row):\n",
    "    calculated_D = row['Calculated D (mm)']\n",
    "    calculated_width = row['Calculated Width (mm)']\n",
    "    invH=row['invH']\n",
    "    # Calculate S\n",
    "    S =  calculated_D/calculated_width\n",
    "    if S==0:\n",
    "        return -1\n",
    "    sigma=1.289*9.81*calculated_width*invH*calculated_width\n",
    "    return sigma"
   ]
  },
  {
   "cell_type": "code",
   "execution_count": 189,
   "id": "006f6cac-a821-4ed6-98c7-f3618e78edd2",
   "metadata": {},
   "outputs": [],
   "source": [
    "df['sigma']=df.apply(calculate_sigma,axis=1)"
   ]
  },
  {
   "cell_type": "code",
   "execution_count": 190,
   "id": "24886232-99be-4e81-9e36-bb82cac3d059",
   "metadata": {},
   "outputs": [
    {
     "data": {
      "text/plain": [
       "0     116.465268\n",
       "1     130.412297\n",
       "2     102.071328\n",
       "3     109.582865\n",
       "4     250.082441\n",
       "5     197.557604\n",
       "6     194.805078\n",
       "7     134.903355\n",
       "8     171.279719\n",
       "9     124.763027\n",
       "10    107.642531\n",
       "11    119.340586\n",
       "12    107.655387\n",
       "13    123.616286\n",
       "14    119.340586\n",
       "15     61.810784\n",
       "16     70.095571\n",
       "17    159.730751\n",
       "18    104.426692\n",
       "19    146.983964\n",
       "Name: sigma, dtype: float64"
      ]
     },
     "execution_count": 190,
     "metadata": {},
     "output_type": "execute_result"
    }
   ],
   "source": [
    "df['sigma']"
   ]
  },
  {
   "cell_type": "code",
   "execution_count": 191,
   "id": "596b8786-b828-4aea-a779-6a2496b0c58c",
   "metadata": {},
   "outputs": [
    {
     "name": "stdout",
     "output_type": "stream",
     "text": [
      "38.24268313423281\n",
      "18.871809981281658\n",
      "58.23426694483367\n",
      "47.8015765975765\n",
      "12.634229508250684\n",
      "26.718018398299805\n",
      "50.496484382921416\n",
      "34.24918670243315\n",
      "50.47862964598152\n",
      "28.31071393960201\n",
      "34.24918670243315\n",
      "85.84831132426345\n",
      "97.35495948231394\n",
      "54.96292827155933\n",
      "Accuracy= 45.60378464399879\n"
     ]
    }
   ],
   "source": [
    "sum=0\n",
    "c=0\n",
    "for s in list(df['sigma']):\n",
    "    if(abs(s-72)<72):\n",
    "        acc=abs(s-72)/72*100\n",
    "        print(100-acc)\n",
    "        sum+=(100-acc)\n",
    "        c+=1\n",
    "print(\"Accuracy=\",sum/c)"
   ]
  },
  {
   "cell_type": "code",
   "execution_count": null,
   "id": "58250912-d535-4319-9ce9-a01430694ead",
   "metadata": {},
   "outputs": [],
   "source": []
  },
  {
   "cell_type": "code",
   "execution_count": null,
   "id": "17ac7053-817e-4372-9eef-97fa52b7d044",
   "metadata": {},
   "outputs": [],
   "source": []
  }
 ],
 "metadata": {
  "kernelspec": {
   "display_name": "Python 3 (ipykernel)",
   "language": "python",
   "name": "python3"
  },
  "language_info": {
   "codemirror_mode": {
    "name": "ipython",
    "version": 3
   },
   "file_extension": ".py",
   "mimetype": "text/x-python",
   "name": "python",
   "nbconvert_exporter": "python",
   "pygments_lexer": "ipython3",
   "version": "3.12.0"
  }
 },
 "nbformat": 4,
 "nbformat_minor": 5
}
